{
 "cells": [
  {
   "cell_type": "code",
   "execution_count": 1,
   "metadata": {},
   "outputs": [],
   "source": [
    "# Problem Statement: \n",
    "# Implement Gradient Descent Algorithm to find the local minima of a function.\n",
    "# For example, find the local minima of the function y=(x+3)² starting from the point x=2."
   ]
  },
  {
   "cell_type": "code",
   "execution_count": 2,
   "metadata": {},
   "outputs": [],
   "source": [
    "import numpy as np"
   ]
  },
  {
   "cell_type": "code",
   "execution_count": 3,
   "metadata": {},
   "outputs": [],
   "source": [
    "def func(x):\n",
    "    return (x-3)**2"
   ]
  },
  {
   "cell_type": "code",
   "execution_count": 4,
   "metadata": {},
   "outputs": [],
   "source": [
    "def derivative(x):\n",
    "    return 2*(x-3)"
   ]
  },
  {
   "cell_type": "code",
   "execution_count": 5,
   "metadata": {},
   "outputs": [],
   "source": [
    "learning_rate = 0.1\n",
    "max_iterations = 100\n",
    "precision = 0.0001"
   ]
  },
  {
   "cell_type": "code",
   "execution_count": 6,
   "metadata": {},
   "outputs": [],
   "source": [
    "x = 2"
   ]
  },
  {
   "cell_type": "code",
   "execution_count": 7,
   "metadata": {
    "scrolled": true
   },
   "outputs": [
    {
     "name": "stdout",
     "output_type": "stream",
     "text": [
      "iteration 0: x = 2.2 and f(x) = 0.6399999999999997\n",
      "absolute difference = 0.3600000000000003\n",
      "iteration 1: x = 2.3600000000000003 and f(x) = 0.4095999999999996\n",
      "absolute difference = 0.2304000000000001\n",
      "iteration 2: x = 2.4880000000000004 and f(x) = 0.26214399999999954\n",
      "absolute difference = 0.14745600000000003\n",
      "iteration 3: x = 2.5904000000000003 and f(x) = 0.16777215999999978\n",
      "absolute difference = 0.09437183999999976\n",
      "iteration 4: x = 2.67232 and f(x) = 0.10737418239999998\n",
      "absolute difference = 0.060397977599999805\n",
      "iteration 5: x = 2.737856 and f(x) = 0.06871947673600008\n",
      "absolute difference = 0.038654705663999894\n",
      "iteration 6: x = 2.7902848 and f(x) = 0.04398046511104009\n",
      "absolute difference = 0.02473901162495999\n",
      "iteration 7: x = 2.83222784 and f(x) = 0.02814749767106566\n",
      "absolute difference = 0.015832967439974432\n",
      "iteration 8: x = 2.8657822719999997 and f(x) = 0.01801439850948207\n",
      "absolute difference = 0.01013309916158359\n",
      "iteration 9: x = 2.8926258176 and f(x) = 0.011529215046068485\n",
      "absolute difference = 0.006485183463413584\n",
      "iteration 10: x = 2.91410065408 and f(x) = 0.007378697629483846\n",
      "absolute difference = 0.004150517416584639\n",
      "iteration 11: x = 2.931280523264 and f(x) = 0.0047223664828696735\n",
      "absolute difference = 0.0026563311466141727\n",
      "iteration 12: x = 2.9450244186112 and f(x) = 0.0030223145490365718\n",
      "absolute difference = 0.0017000519338331017\n",
      "iteration 13: x = 2.95601953488896 and f(x) = 0.0019342813113833901\n",
      "absolute difference = 0.0010880332376531816\n",
      "iteration 14: x = 2.964815627911168 and f(x) = 0.0012379400392853698\n",
      "absolute difference = 0.0006963412720980204\n",
      "iteration 15: x = 2.9718525023289346 and f(x) = 0.0007922816251426316\n",
      "absolute difference = 0.00044565841414273815\n",
      "iteration 16: x = 2.9774820018631476 and f(x) = 0.0005070602400912883\n",
      "absolute difference = 0.00028522138505134335\n",
      "iteration 17: x = 2.981985601490518 and f(x) = 0.0003245185536584213\n",
      "absolute difference = 0.00018254168643286697\n",
      "iteration 18: x = 2.9855884811924147 and f(x) = 0.0002076918743413845\n",
      "absolute difference = 0.00011682667931703678\n",
      "iteration 19: x = 2.9884707849539316 and f(x) = 0.00013292279957849017\n",
      "absolute difference = 7.476907476289434e-05\n"
     ]
    }
   ],
   "source": [
    "converged = False\n",
    "for i in range(max_iterations):\n",
    "    x_old = x\n",
    "    gradient = derivative(x_old)\n",
    "    x = x - gradient*learning_rate\n",
    "    print(f\"iteration {i}: x = {x} and f(x) = {func(x)}\")\n",
    "    print(f\"absolute difference = {abs(func(x)-func(x_old))}\")\n",
    "    if abs(func(x)-func(x_old)) < precision:\n",
    "        converged = True\n",
    "        break    "
   ]
  },
  {
   "cell_type": "code",
   "execution_count": 8,
   "metadata": {
    "scrolled": true
   },
   "outputs": [
    {
     "name": "stdout",
     "output_type": "stream",
     "text": [
      "We found convergence at x = 2.9884707849539316 where value of function is 0.00013292279957849017\n"
     ]
    }
   ],
   "source": [
    "if converged == True:\n",
    "    print(f\"We found convergence at x = {x} where value of function is {func(x)}\")\n",
    "else:\n",
    "    print(f\"No convergence found in {max_iterations} iterations!\")"
   ]
  },
  {
   "cell_type": "code",
   "execution_count": 12,
   "metadata": {},
   "outputs": [
    {
     "data": {
      "image/png": "[encoded data removed]",
      "text/plain": [
       "<Figure size 432x288 with 1 Axes>"
      ]
     },
     "metadata": {
      "needs_background": "light"
     },
     "output_type": "display_data"
    }
   ],
   "source": [
    "# Plot the function\n",
    "import matplotlib.pyplot as plt\n",
    "\n",
    "x_values = np.linspace(-2, 8, 100)\n",
    "y_values = func(x_values)\n",
    "\n",
    "plt.plot(x_values, y_values, label = '$(x-3)^2$')\n",
    "plt.\n",
    "plt.xlabel = 'x'\n",
    "plt.ylabel = 'f(x)'\n",
    "plt.title = 'Plot of the function f(x) = $(x-3)^2$'\n",
    "plt.legend()\n",
    "plt.grid(True)\n",
    "plt.show()"
   ]
  },
  {
   "cell_type": "code",
   "execution_count": 9,
   "metadata": {},
   "outputs": [
    {
     "name": "stdout",
     "output_type": "stream",
     "text": [
      "Help on function linspace in module numpy:\n",
      "\n",
      "linspace(start, stop, num=50, endpoint=True, retstep=False, dtype=None, axis=0)\n",
      "    Return evenly spaced numbers over a specified interval.\n",
      "    \n",
      "    Returns `num` evenly spaced samples, calculated over the\n",
      "    interval [`start`, `stop`].\n",
      "    \n",
      "    The endpoint of the interval can optionally be excluded.\n",
      "    \n",
      "    .. versionchanged:: 1.16.0\n",
      "        Non-scalar `start` and `stop` are now supported.\n",
      "    \n",
      "    .. versionchanged:: 1.20.0\n",
      "        Values are rounded towards ``-inf`` instead of ``0`` when an\n",
      "        integer ``dtype`` is specified. The old behavior can\n",
      "        still be obtained with ``np.linspace(start, stop, num).astype(int)``\n",
      "    \n",
      "    Parameters\n",
      "    ----------\n",
      "    start : array_like\n",
      "        The starting value of the sequence.\n",
      "    stop : array_like\n",
      "        The end value of the sequence, unless `endpoint` is set to False.\n",
      "        In that case, the sequence consists of all but the last of ``num + 1``\n",
      "        evenly spaced samples, so that `stop` is excluded.  Note that the step\n",
      "        size changes when `endpoint` is False.\n",
      "    num : int, optional\n",
      "        Number of samples to generate. Default is 50. Must be non-negative.\n",
      "    endpoint : bool, optional\n",
      "        If True, `stop` is the last sample. Otherwise, it is not included.\n",
      "        Default is True.\n",
      "    retstep : bool, optional\n",
      "        If True, return (`samples`, `step`), where `step` is the spacing\n",
      "        between samples.\n",
      "    dtype : dtype, optional\n",
      "        The type of the output array.  If `dtype` is not given, the data type\n",
      "        is inferred from `start` and `stop`. The inferred dtype will never be\n",
      "        an integer; `float` is chosen even if the arguments would produce an\n",
      "        array of integers.\n",
      "    \n",
      "        .. versionadded:: 1.9.0\n",
      "    \n",
      "    axis : int, optional\n",
      "        The axis in the result to store the samples.  Relevant only if start\n",
      "        or stop are array-like.  By default (0), the samples will be along a\n",
      "        new axis inserted at the beginning. Use -1 to get an axis at the end.\n",
      "    \n",
      "        .. versionadded:: 1.16.0\n",
      "    \n",
      "    Returns\n",
      "    -------\n",
      "    samples : ndarray\n",
      "        There are `num` equally spaced samples in the closed interval\n",
      "        ``[start, stop]`` or the half-open interval ``[start, stop)``\n",
      "        (depending on whether `endpoint` is True or False).\n",
      "    step : float, optional\n",
      "        Only returned if `retstep` is True\n",
      "    \n",
      "        Size of spacing between samples.\n",
      "    \n",
      "    \n",
      "    See Also\n",
      "    --------\n",
      "    arange : Similar to `linspace`, but uses a step size (instead of the\n",
      "             number of samples).\n",
      "    geomspace : Similar to `linspace`, but with numbers spaced evenly on a log\n",
      "                scale (a geometric progression).\n",
      "    logspace : Similar to `geomspace`, but with the end points specified as\n",
      "               logarithms.\n",
      "    :ref:`how-to-partition`\n",
      "    \n",
      "    Examples\n",
      "    --------\n",
      "    >>> np.linspace(2.0, 3.0, num=5)\n",
      "    array([2.  , 2.25, 2.5 , 2.75, 3.  ])\n",
      "    >>> np.linspace(2.0, 3.0, num=5, endpoint=False)\n",
      "    array([2. ,  2.2,  2.4,  2.6,  2.8])\n",
      "    >>> np.linspace(2.0, 3.0, num=5, retstep=True)\n",
      "    (array([2.  ,  2.25,  2.5 ,  2.75,  3.  ]), 0.25)\n",
      "    \n",
      "    Graphical illustration:\n",
      "    \n",
      "    >>> import matplotlib.pyplot as plt\n",
      "    >>> N = 8\n",
      "    >>> y = np.zeros(N)\n",
      "    >>> x1 = np.linspace(0, 10, N, endpoint=True)\n",
      "    >>> x2 = np.linspace(0, 10, N, endpoint=False)\n",
      "    >>> plt.plot(x1, y, 'o')\n",
      "    [<matplotlib.lines.Line2D object at 0x...>]\n",
      "    >>> plt.plot(x2, y + 0.5, 'o')\n",
      "    [<matplotlib.lines.Line2D object at 0x...>]\n",
      "    >>> plt.ylim([-0.5, 1])\n",
      "    (-0.5, 1)\n",
      "    >>> plt.show()\n",
      "\n"
     ]
    }
   ],
   "source": [
    "help(np.linspace)"
   ]
  },
  {
   "cell_type": "code",
   "execution_count": null,
   "metadata": {},
   "outputs": [],
   "source": []
  }
 ],
 "metadata": {
  "kernelspec": {
   "display_name": "Python 3",
   "language": "python",
   "name": "python3"
  },
  "language_info": {
   "codemirror_mode": {
    "name": "ipython",
    "version": 3
   },
   "file_extension": ".py",
   "mimetype": "text/x-python",
   "name": "python",
   "nbconvert_exporter": "python",
   "pygments_lexer": "ipython3",
   "version": "3.8.10"
  }
 },
 "nbformat": 4,
 "nbformat_minor": 4
}
